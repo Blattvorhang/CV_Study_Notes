{
 "cells": [
  {
   "cell_type": "code",
   "execution_count": 6,
   "metadata": {},
   "outputs": [],
   "source": [
    "import torch\n",
    "import torch.nn as nn\n",
    "import torch.optim as optim\n",
    "import torchvision\n",
    "import torchvision.transforms as transforms\n",
    "from torch.utils.data import DataLoader"
   ]
  },
  {
   "cell_type": "markdown",
   "metadata": {},
   "source": [
    "## Hyperparameters"
   ]
  },
  {
   "cell_type": "code",
   "execution_count": 7,
   "metadata": {},
   "outputs": [],
   "source": [
    "num_epochs = 10\n",
    "batch_size = 100\n",
    "learning_rate = 0.001"
   ]
  },
  {
   "cell_type": "markdown",
   "metadata": {},
   "source": [
    "## Preparation"
   ]
  },
  {
   "cell_type": "code",
   "execution_count": 8,
   "metadata": {},
   "outputs": [],
   "source": [
    "# Device configuration (CPU or GPU)\n",
    "device = torch.device('cuda' if torch.cuda.is_available() else 'cpu')\n",
    "\n",
    "# MNIST dataset (images and labels), adapted for AlexNet\n",
    "transform = transforms.Compose([\n",
    "    transforms.Resize(224),  # Resize images to fit AlexNet input size\n",
    "    transforms.ToTensor(),\n",
    "    transforms.Normalize((0.1307,), (0.3081,))  # mean and std of MNIST dataset\n",
    "])\n",
    "\n",
    "train_dataset = torchvision.datasets.MNIST(root='./data', train=True, transform=transform, download=True)\n",
    "test_dataset = torchvision.datasets.MNIST(root='./data', train=False, transform=transform)\n",
    "\n",
    "train_loader = DataLoader(dataset=train_dataset, batch_size=batch_size, shuffle=True)\n",
    "test_loader = DataLoader(dataset=test_dataset, batch_size=batch_size, shuffle=False)"
   ]
  },
  {
   "cell_type": "markdown",
   "metadata": {},
   "source": [
    "## AlexNet"
   ]
  },
  {
   "cell_type": "code",
   "execution_count": 9,
   "metadata": {},
   "outputs": [],
   "source": [
    "class AlexNet(nn.Module):\n",
    "    def __init__(self, num_classes=10):\n",
    "        super(AlexNet, self).__init__()        \n",
    "        self.features = nn.Sequential(\n",
    "            # C1: 224x224x1 -> 55x55x64 -> 27x27x64\n",
    "            nn.Conv2d(1, 64, kernel_size=11, stride=4, padding=2),\n",
    "            nn.ReLU(inplace=True),\n",
    "            nn.MaxPool2d(kernel_size=3, stride=2),\n",
    "            # C2: 27x27x64 -> 27x27x192 -> 13x13x192\n",
    "            nn.Conv2d(64, 192, kernel_size=5, padding=2),\n",
    "            nn.ReLU(inplace=True),\n",
    "            nn.MaxPool2d(kernel_size=3, stride=2),\n",
    "            # C3: 13x13x192 -> 13x13x384\n",
    "            nn.Conv2d(192, 384, kernel_size=3, padding=1),\n",
    "            nn.ReLU(inplace=True),\n",
    "            # C4: 13x13x384 -> 13x13x256\n",
    "            nn.Conv2d(384, 256, kernel_size=3, padding=1),\n",
    "            nn.ReLU(inplace=True),\n",
    "            # C5: 13x13x256 -> 13x13x256 -> 6x6x256\n",
    "            nn.Conv2d(256, 256, kernel_size=3, padding=1),\n",
    "            nn.ReLU(inplace=True),\n",
    "            nn.MaxPool2d(kernel_size=3, stride=2),\n",
    "        )\n",
    "        self.avgpool = nn.AdaptiveAvgPool2d((6, 6))\n",
    "        self.classifier = nn.Sequential(\n",
    "            # FC6\n",
    "            nn.Dropout(),\n",
    "            nn.Linear(256 * 6 * 6, 4096),\n",
    "            nn.ReLU(inplace=True),\n",
    "            # FC7\n",
    "            nn.Dropout(),\n",
    "            nn.Linear(4096, 4096),\n",
    "            nn.ReLU(inplace=True),\n",
    "            # output\n",
    "            nn.Linear(4096, num_classes),\n",
    "        )\n",
    "    \n",
    "    def forward(self, x):        \n",
    "        x = self.features(x)\n",
    "        x = self.avgpool(x)\n",
    "        x = torch.flatten(x, 1)\n",
    "        x = self.classifier(x)\n",
    "        return x\n",
    "\n",
    "\n",
    "# Initialize the model, loss function, and optimizer\n",
    "model = AlexNet().to(device)\n",
    "criterion = nn.CrossEntropyLoss()\n",
    "optimizer = optim.Adam(model.parameters(), lr=learning_rate)"
   ]
  },
  {
   "cell_type": "markdown",
   "metadata": {},
   "source": [
    "## Training"
   ]
  },
  {
   "cell_type": "code",
   "execution_count": 10,
   "metadata": {},
   "outputs": [
    {
     "name": "stdout",
     "output_type": "stream",
     "text": [
      "Epoch [1/10], Step [100/600], Loss: 0.2689\n",
      "Epoch [1/10], Step [200/600], Loss: 0.0576\n",
      "Epoch [1/10], Step [300/600], Loss: 0.0627\n",
      "Epoch [1/10], Step [400/600], Loss: 0.0233\n",
      "Epoch [1/10], Step [500/600], Loss: 0.1149\n",
      "Epoch [1/10], Step [600/600], Loss: 0.0373\n",
      "Epoch [2/10], Step [100/600], Loss: 0.0185\n",
      "Epoch [2/10], Step [200/600], Loss: 0.1872\n",
      "Epoch [2/10], Step [300/600], Loss: 0.0211\n",
      "Epoch [2/10], Step [400/600], Loss: 0.0865\n",
      "Epoch [2/10], Step [500/600], Loss: 0.0593\n",
      "Epoch [2/10], Step [600/600], Loss: 0.0266\n",
      "Epoch [3/10], Step [100/600], Loss: 0.0468\n",
      "Epoch [3/10], Step [200/600], Loss: 0.0646\n",
      "Epoch [3/10], Step [300/600], Loss: 0.6289\n",
      "Epoch [3/10], Step [400/600], Loss: 0.0530\n",
      "Epoch [3/10], Step [500/600], Loss: 0.0719\n",
      "Epoch [3/10], Step [600/600], Loss: 0.1739\n",
      "Epoch [4/10], Step [100/600], Loss: 0.1019\n",
      "Epoch [4/10], Step [200/600], Loss: 0.0013\n",
      "Epoch [4/10], Step [300/600], Loss: 0.0179\n",
      "Epoch [4/10], Step [400/600], Loss: 0.0641\n",
      "Epoch [4/10], Step [500/600], Loss: 0.1198\n",
      "Epoch [4/10], Step [600/600], Loss: 0.0650\n",
      "Epoch [5/10], Step [100/600], Loss: 0.0259\n",
      "Epoch [5/10], Step [200/600], Loss: 0.0515\n",
      "Epoch [5/10], Step [300/600], Loss: 0.0118\n",
      "Epoch [5/10], Step [400/600], Loss: 0.0406\n",
      "Epoch [5/10], Step [500/600], Loss: 0.0436\n",
      "Epoch [5/10], Step [600/600], Loss: 0.0796\n",
      "Epoch [6/10], Step [100/600], Loss: 0.0487\n",
      "Epoch [6/10], Step [200/600], Loss: 0.0261\n",
      "Epoch [6/10], Step [300/600], Loss: 0.0013\n",
      "Epoch [6/10], Step [400/600], Loss: 0.0057\n",
      "Epoch [6/10], Step [500/600], Loss: 0.0924\n",
      "Epoch [6/10], Step [600/600], Loss: 0.0724\n",
      "Epoch [7/10], Step [100/600], Loss: 0.0099\n",
      "Epoch [7/10], Step [200/600], Loss: 0.0202\n",
      "Epoch [7/10], Step [300/600], Loss: 0.0183\n",
      "Epoch [7/10], Step [400/600], Loss: 0.0057\n",
      "Epoch [7/10], Step [500/600], Loss: 0.0073\n",
      "Epoch [7/10], Step [600/600], Loss: 0.0300\n",
      "Epoch [8/10], Step [100/600], Loss: 0.0359\n",
      "Epoch [8/10], Step [200/600], Loss: 0.0046\n",
      "Epoch [8/10], Step [300/600], Loss: 0.0028\n",
      "Epoch [8/10], Step [400/600], Loss: 0.0234\n",
      "Epoch [8/10], Step [500/600], Loss: 0.1713\n",
      "Epoch [8/10], Step [600/600], Loss: 0.0404\n",
      "Epoch [9/10], Step [100/600], Loss: 0.0052\n",
      "Epoch [9/10], Step [200/600], Loss: 0.0159\n",
      "Epoch [9/10], Step [300/600], Loss: 0.0106\n",
      "Epoch [9/10], Step [400/600], Loss: 0.0858\n",
      "Epoch [9/10], Step [500/600], Loss: 0.0003\n",
      "Epoch [9/10], Step [600/600], Loss: 0.0057\n",
      "Epoch [10/10], Step [100/600], Loss: 0.0480\n",
      "Epoch [10/10], Step [200/600], Loss: 0.0040\n",
      "Epoch [10/10], Step [300/600], Loss: 0.0084\n",
      "Epoch [10/10], Step [400/600], Loss: 0.0366\n",
      "Epoch [10/10], Step [500/600], Loss: 0.0070\n",
      "Epoch [10/10], Step [600/600], Loss: 0.2593\n"
     ]
    }
   ],
   "source": [
    "# Training the model\n",
    "total_step = len(train_loader)\n",
    "for epoch in range(num_epochs):\n",
    "    for i, (images, labels) in enumerate(train_loader):\n",
    "        images = images.to(device)\n",
    "        labels = labels.to(device)\n",
    "\n",
    "        # Forward pass\n",
    "        outputs = model(images)\n",
    "        loss = criterion(outputs, labels)\n",
    "\n",
    "        # Backward pass and optimize\n",
    "        optimizer.zero_grad()\n",
    "        loss.backward()\n",
    "        optimizer.step()\n",
    "\n",
    "        if (i+1) % 100 == 0:\n",
    "            print ('Epoch [{}/{}], Step [{}/{}], Loss: {:.4f}'\n",
    "                   .format(epoch+1, num_epochs, i+1, total_step, loss.item()))"
   ]
  },
  {
   "cell_type": "markdown",
   "metadata": {},
   "source": [
    "## Test the model"
   ]
  },
  {
   "cell_type": "code",
   "execution_count": 11,
   "metadata": {},
   "outputs": [
    {
     "name": "stdout",
     "output_type": "stream",
     "text": [
      "Test Accuracy of the model on the 10000 test images: 99.18 %\n"
     ]
    }
   ],
   "source": [
    "model.eval()\n",
    "with torch.no_grad():\n",
    "    correct = 0\n",
    "    total = 0\n",
    "    for images, labels in test_loader:\n",
    "        images = images.to(device)\n",
    "        labels = labels.to(device)\n",
    "        outputs = model(images)\n",
    "        _, predicted = torch.max(outputs.data, 1)\n",
    "        total += labels.size(0)\n",
    "        correct += (predicted == labels).sum().item()\n",
    "\n",
    "    print('Test Accuracy of the model on the 10000 test images: {} %'.format(100 * correct / total))"
   ]
  },
  {
   "cell_type": "code",
   "execution_count": 12,
   "metadata": {},
   "outputs": [],
   "source": [
    "# Save the model\n",
    "torch.save(model.state_dict(), 'model.ckpt')\n"
   ]
  },
  {
   "cell_type": "code",
   "execution_count": null,
   "metadata": {},
   "outputs": [],
   "source": []
  }
 ],
 "metadata": {
  "kernelspec": {
   "display_name": "pytorch",
   "language": "python",
   "name": "python3"
  },
  "language_info": {
   "codemirror_mode": {
    "name": "ipython",
    "version": 3
   },
   "file_extension": ".py",
   "mimetype": "text/x-python",
   "name": "python",
   "nbconvert_exporter": "python",
   "pygments_lexer": "ipython3",
   "version": "3.9.12"
  }
 },
 "nbformat": 4,
 "nbformat_minor": 2
}
