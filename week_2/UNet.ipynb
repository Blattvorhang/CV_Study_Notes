{
 "cells": [
  {
   "cell_type": "code",
   "execution_count": 1,
   "metadata": {},
   "outputs": [],
   "source": [
    "%matplotlib inline\n",
    "import torch\n",
    "import torchvision\n",
    "from torchvision import transforms\n",
    "from torch import nn\n",
    "from torch.nn import functional as F\n",
    "from d2l import torch as d2l  # Refer to https://d2l.ai/"
   ]
  },
  {
   "cell_type": "code",
   "execution_count": 2,
   "metadata": {},
   "outputs": [
    {
     "name": "stdout",
     "output_type": "stream",
     "text": [
      "torch.Size([10, 1, 224, 224])\n"
     ]
    }
   ],
   "source": [
    "class double_conv2d_bn(nn.Module):\n",
    "    def __init__(self, in_channels, out_channels, kernel_size=3, strides=1, padding=1):\n",
    "        super(double_conv2d_bn,self).__init__()\n",
    "        self.conv1 = nn.Conv2d(in_channels, out_channels,\n",
    "                               kernel_size=kernel_size,\n",
    "                              stride = strides, padding=padding, bias=True)\n",
    "        self.conv2 = nn.Conv2d(out_channels, out_channels,\n",
    "                              kernel_size = kernel_size,\n",
    "                              stride = strides, padding=padding, bias=True)\n",
    "        self.bn1 = nn.BatchNorm2d(out_channels)\n",
    "        self.bn2 = nn.BatchNorm2d(out_channels)\n",
    "    \n",
    "    def forward(self,x):\n",
    "        out = F.relu(self.bn1(self.conv1(x)))\n",
    "        out = F.relu(self.bn2(self.conv2(out)))\n",
    "        return out\n",
    "    \n",
    "class deconv2d_bn(nn.Module):\n",
    "    def __init__(self, in_channels, out_channels, kernel_size=2, strides=2):\n",
    "        super(deconv2d_bn,self).__init__()\n",
    "        self.conv1 = nn.ConvTranspose2d(in_channels, out_channels,\n",
    "                                        kernel_size = kernel_size,\n",
    "                                       stride = strides,bias=True)\n",
    "        self.bn1 = nn.BatchNorm2d(out_channels)\n",
    "        \n",
    "    def forward(self,x):\n",
    "        out = F.relu(self.bn1(self.conv1(x)))\n",
    "        return out\n",
    "    \n",
    "class Unet(nn.Module):\n",
    "    def __init__(self, num_classes):\n",
    "        super(Unet,self).__init__()\n",
    "        self.layer1_conv = double_conv2d_bn(3, 64)\n",
    "        self.layer2_conv = double_conv2d_bn(64, 128)\n",
    "        self.layer3_conv = double_conv2d_bn(128, 256)\n",
    "        self.layer4_conv = double_conv2d_bn(256, 512)\n",
    "        self.layer4_drop = nn.Dropout2d(0.5)\n",
    "        self.layer5_conv = double_conv2d_bn(512, 1024)\n",
    "        self.layer5_drop = nn.Dropout2d(0.5)\n",
    "        self.layer6_conv = double_conv2d_bn(1024, 512)\n",
    "        self.layer7_conv = double_conv2d_bn(512, 256)\n",
    "        self.layer8_conv = double_conv2d_bn(256, 128)\n",
    "        self.layer9_conv = double_conv2d_bn(128, 64)\n",
    "        self.layer10_conv = nn.Conv2d(64, num_classes, kernel_size=3,\n",
    "                                     stride=1, padding=1, bias=True)\n",
    "        \n",
    "        self.deconv1 = deconv2d_bn(1024, 512)\n",
    "        self.deconv2 = deconv2d_bn(512, 256)\n",
    "        self.deconv3 = deconv2d_bn(256, 128)\n",
    "        self.deconv4 = deconv2d_bn(128, 64)\n",
    "        \n",
    "        # self.sigmoid = nn.Sigmoid()\n",
    "        \n",
    "    def forward(self,x):\n",
    "        conv1 = self.layer1_conv(x)\n",
    "        pool1 = F.max_pool2d(conv1, 2)\n",
    "        \n",
    "        conv2 = self.layer2_conv(pool1)\n",
    "        pool2 = F.max_pool2d(conv2, 2)\n",
    "        \n",
    "        conv3 = self.layer3_conv(pool2)\n",
    "        pool3 = F.max_pool2d(conv3, 2)\n",
    "        \n",
    "        conv4 = self.layer4_conv(pool3)\n",
    "        pool4 = F.max_pool2d(conv4, 2)\n",
    "        drop4 = self.layer4_drop(pool4)\n",
    "        \n",
    "        conv5 = self.layer5_conv(drop4)\n",
    "        drop5 = self.layer5_drop(conv5)\n",
    "        \n",
    "        convt1 = self.deconv1(drop5)                 # C = 512\n",
    "        concat1 = torch.cat([convt1, conv4], dim=1)  # C = 1024\n",
    "        conv6 = self.layer6_conv(concat1)            # C = 512\n",
    "        \n",
    "        convt2 = self.deconv2(conv6)                 # C = 256\n",
    "        concat2 = torch.cat([convt2, conv3], dim=1)  # C = 512\n",
    "        conv7 = self.layer7_conv(concat2)            # C = 256\n",
    "        \n",
    "        convt3 = self.deconv3(conv7)                 # C = 128\n",
    "        concat3 = torch.cat([convt3, conv2], dim=1)  # C = 256\n",
    "        conv8 = self.layer8_conv(concat3)            # C = 128\n",
    "        \n",
    "        convt4 = self.deconv4(conv8)                 # C = 64\n",
    "        concat4 = torch.cat([convt4, conv1], dim=1)  # C = 128\n",
    "        conv9 = self.layer9_conv(concat4)            # C = 64\n",
    "        outp = self.layer10_conv(conv9)              # C = num_classes\n",
    "        # outp = self.sigmoid(outp)\n",
    "        return outp\n",
    "    \n",
    "\n",
    "net = Unet(num_classes=21)\n",
    "inp = torch.rand(10, 3, 224, 224)\n",
    "outp = net(inp)\n",
    "print(outp.shape)\n",
    "print(outp)"
   ]
  },
  {
   "cell_type": "markdown",
   "metadata": {},
   "source": [
    "# Reading the Dataset"
   ]
  },
  {
   "cell_type": "code",
   "execution_count": null,
   "metadata": {},
   "outputs": [],
   "source": [
    "batch_size, crop_size = 64, (224, 224)  # adjust to fit your requirements\n",
    "train_iter, test_iter = d2l.load_data_voc(batch_size, crop_size)"
   ]
  },
  {
   "cell_type": "markdown",
   "metadata": {},
   "source": [
    "# Training"
   ]
  },
  {
   "cell_type": "code",
   "execution_count": null,
   "metadata": {},
   "outputs": [],
   "source": [
    "def train(net, train_iter, test_iter, loss, trainer, num_epochs,\n",
    "               devices=d2l.try_all_gpus()):\n",
    "    \"\"\"Train a model with multiple GPUs (defined in Chapter 13).\n",
    "\n",
    "    Defined in :numref:`sec_image_augmentation`\"\"\"\n",
    "    timer, num_batches = d2l.Timer(), len(train_iter)\n",
    "    animator = d2l.Animator(xlabel='epoch', xlim=[1, num_epochs], ylim=[0, 1.5],\n",
    "                            legend=['train loss', 'train acc', 'test acc'])\n",
    "    net = nn.DataParallel(net, device_ids=devices).to(devices[0])\n",
    "    for epoch in range(num_epochs):\n",
    "        # Sum of training loss, sum of training accuracy, no. of examples,\n",
    "        # no. of predictions\n",
    "        metric = d2l.Accumulator(4)\n",
    "        for i, (features, labels) in enumerate(train_iter):\n",
    "            timer.start()\n",
    "            l, acc = d2l.train_batch_ch13(\n",
    "                net, features, labels, loss, trainer, devices)\n",
    "            metric.add(l, acc, labels.shape[0], labels.numel())\n",
    "            timer.stop()\n",
    "            if (i + 1) % (num_batches // 5) == 0 or i == num_batches - 1:\n",
    "                animator.add(epoch + (i + 1) / num_batches,\n",
    "                             (metric[0] / metric[2], metric[1] / metric[3],\n",
    "                              None))\n",
    "        test_acc = d2l.evaluate_accuracy_gpu(net, test_iter)\n",
    "        animator.add(epoch + 1, (None, None, test_acc))\n",
    "    print(f'loss {metric[0] / metric[2]:.3f}, train acc '\n",
    "          f'{metric[1] / metric[3]:.3f}, test acc {test_acc:.3f}')\n",
    "    print(f'{metric[2] * num_epochs / timer.sum():.1f} examples/sec on '\n",
    "          f'{str(devices)}')"
   ]
  },
  {
   "cell_type": "code",
   "execution_count": null,
   "metadata": {},
   "outputs": [],
   "source": [
    "def loss(inputs, targets):\n",
    "    return F.cross_entropy(inputs, targets, reduction='none').mean(1).mean(1)\n",
    "\n",
    "num_epochs, lr, wd, devices = 100, 1e-4, 1e-3, d2l.try_all_gpus()\n",
    "# trainer = torch.optim.SGD(net.parameters(), lr=lr, weight_decay=wd)\n",
    "trainer = torch.optim.Adam(net.parameters(), lr=lr)\n",
    "train(net, train_iter, test_iter, loss, trainer, num_epochs, devices)\n",
    "torch.save(net.state_dict(), 'unet_100.pth')"
   ]
  },
  {
   "cell_type": "markdown",
   "metadata": {},
   "source": [
    "# Prediction"
   ]
  },
  {
   "cell_type": "code",
   "execution_count": null,
   "metadata": {},
   "outputs": [],
   "source": [
    "def predict(img):\n",
    "    X = test_iter.dataset.normalize_image(img).unsqueeze(0)\n",
    "    pred = net(X.to(devices[0])).argmax(dim=1)\n",
    "    return pred.reshape(pred.shape[1], pred.shape[2])"
   ]
  },
  {
   "cell_type": "code",
   "execution_count": null,
   "metadata": {},
   "outputs": [],
   "source": [
    "def label2image(pred):\n",
    "    colormap = torch.tensor(d2l.VOC_COLORMAP, device=devices[0])\n",
    "    X = pred.long()\n",
    "    return colormap[X, :]"
   ]
  },
  {
   "cell_type": "code",
   "execution_count": null,
   "metadata": {},
   "outputs": [],
   "source": [
    "voc_dir = d2l.download_extract('voc2012', 'VOCdevkit/VOC2012')\n",
    "test_images, test_labels = d2l.read_voc_images(voc_dir, False)"
   ]
  },
  {
   "cell_type": "code",
   "execution_count": null,
   "metadata": {},
   "outputs": [],
   "source": [
    "n, imgs = 4, []\n",
    "for i in range(n):\n",
    "    crop_rect = (0, 0, 320, 480)\n",
    "    X = transforms.functional.crop(test_images[i], *crop_rect)\n",
    "    pred = label2image(predict(X))\n",
    "    imgs += [\n",
    "        X.permute(1,2,0),\n",
    "        transforms.functional.crop(test_labels[i], *crop_rect).permute(1,2,0),\n",
    "        pred.cpu()\n",
    "    ]\n",
    "d2l.show_images(imgs[::3] + imgs[1::3] + imgs[2::3], 3, n, scale=2);"
   ]
  }
 ],
 "metadata": {
  "kernelspec": {
   "display_name": "Python 3",
   "language": "python",
   "name": "python3"
  },
  "language_info": {
   "codemirror_mode": {
    "name": "ipython",
    "version": 3
   },
   "file_extension": ".py",
   "mimetype": "text/x-python",
   "name": "python",
   "nbconvert_exporter": "python",
   "pygments_lexer": "ipython3",
   "version": "3.9.12"
  }
 },
 "nbformat": 4,
 "nbformat_minor": 0
}
